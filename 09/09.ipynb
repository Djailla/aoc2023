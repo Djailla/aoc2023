{
 "cells": [
  {
   "cell_type": "code",
   "execution_count": 88,
   "id": "112e3d3a-ec7f-49da-baa8-a5a2d8b1ff5b",
   "metadata": {},
   "outputs": [
    {
     "data": {
      "text/plain": [
       "1666172641"
      ]
     },
     "execution_count": 88,
     "metadata": {},
     "output_type": "execute_result"
    }
   ],
   "source": [
    "with open(\"input.txt\") as f:\n",
    "    data = f.read().splitlines()\n",
    "\n",
    "step_list = [[int(x) for x in steps.split()] for steps in data]\n",
    "\n",
    "def compute_list(input_list):\n",
    "    i = 0\n",
    "    out = []\n",
    "\n",
    "    while i < len(input_list) - 1:\n",
    "        out.append(input_list[i + 1] - input_list[i])\n",
    "        i += 1\n",
    "\n",
    "    return out\n",
    "\n",
    "def compute_future(step):\n",
    "    out = step\n",
    "    list_of_list = [step]\n",
    "\n",
    "    while not(all(x == 0 for x in out)):\n",
    "        new_list = compute_list(out)\n",
    "        out = new_list\n",
    "        list_of_list.append(out)\n",
    "    \n",
    "    list_of_list.reverse()\n",
    "    \n",
    "    x = 0\n",
    "    prev = 0\n",
    "    \n",
    "    while x < len(list_of_list):\n",
    "        current_list = list_of_list[x]\n",
    "        current_list.append(current_list[-1] + prev)\n",
    "        prev = current_list[-1]\n",
    "        x += 1\n",
    "\n",
    "    return list_of_list[-1][-1]\n",
    "\n",
    "sum([compute_future(step) for step in step_list])"
   ]
  }
 ],
 "metadata": {
  "kernelspec": {
   "display_name": "Python 3 (ipykernel)",
   "language": "python",
   "name": "python3"
  },
  "language_info": {
   "codemirror_mode": {
    "name": "ipython",
    "version": 3
   },
   "file_extension": ".py",
   "mimetype": "text/x-python",
   "name": "python",
   "nbconvert_exporter": "python",
   "pygments_lexer": "ipython3",
   "version": "3.11.6"
  }
 },
 "nbformat": 4,
 "nbformat_minor": 5
}
