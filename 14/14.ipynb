{
 "cells": [
  {
   "cell_type": "code",
   "execution_count": 36,
   "id": "2ccc7841-8765-457a-81cb-c5892e2bbf2f",
   "metadata": {},
   "outputs": [],
   "source": [
    "with open(\"input.txt\") as f:\n",
    "    data = f.read().splitlines()"
   ]
  },
  {
   "cell_type": "code",
   "execution_count": 37,
   "id": "f79f164d-77f0-496e-925c-db89863d0411",
   "metadata": {},
   "outputs": [],
   "source": [
    "columns = [\n",
    "    \"\".join(line[x] for line in data) for x in range(len(data[0]))\n",
    "]"
   ]
  },
  {
   "cell_type": "code",
   "execution_count": 38,
   "id": "5cb7ce7f-42d8-4ed8-9e36-4499327e43b5",
   "metadata": {},
   "outputs": [],
   "source": [
    "from collections import Counter\n",
    "\n",
    "def transform_column(col):\n",
    "    new_subs = []\n",
    "    for subpart in col.split(\"#\"):\n",
    "        c = Counter(subpart)\n",
    "        new_subs.append(\"O\" * c[\"O\"] + \".\" * c[\".\"])\n",
    "    return \"#\".join(new_subs)"
   ]
  },
  {
   "cell_type": "code",
   "execution_count": 39,
   "id": "f2f29b18-8206-420b-982a-314f87d1daf7",
   "metadata": {},
   "outputs": [],
   "source": [
    "g_tot = 0\n",
    "for col in columns:\n",
    "    t = transform_column(col)\n",
    "    tot = 0\n",
    "    for idx, e in enumerate(t[::-1], 1):\n",
    "        if e == \"O\":\n",
    "            tot += idx\n",
    "    g_tot += tot"
   ]
  },
  {
   "cell_type": "code",
   "execution_count": 40,
   "id": "d3fa0f56-c556-45ff-9d29-cc42cd9feda6",
   "metadata": {},
   "outputs": [
    {
     "data": {
      "text/plain": [
       "106648"
      ]
     },
     "execution_count": 40,
     "metadata": {},
     "output_type": "execute_result"
    }
   ],
   "source": [
    "g_tot"
   ]
  },
  {
   "cell_type": "code",
   "execution_count": null,
   "id": "cf8ba748-9d8e-4ff0-af91-2554d7d13d17",
   "metadata": {},
   "outputs": [],
   "source": []
  }
 ],
 "metadata": {
  "kernelspec": {
   "display_name": "Python 3 (ipykernel)",
   "language": "python",
   "name": "python3"
  },
  "language_info": {
   "codemirror_mode": {
    "name": "ipython",
    "version": 3
   },
   "file_extension": ".py",
   "mimetype": "text/x-python",
   "name": "python",
   "nbconvert_exporter": "python",
   "pygments_lexer": "ipython3",
   "version": "3.11.6"
  }
 },
 "nbformat": 4,
 "nbformat_minor": 5
}
