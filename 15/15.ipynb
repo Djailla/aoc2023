{
 "cells": [
  {
   "cell_type": "code",
   "execution_count": 6,
   "id": "dd9554e5-f19b-4dd7-a396-169f8f38eebd",
   "metadata": {},
   "outputs": [
    {
     "data": {
      "text/plain": [
       "52"
      ]
     },
     "execution_count": 6,
     "metadata": {},
     "output_type": "execute_result"
    }
   ],
   "source": [
    "def get_hash(word):\n",
    "    cur = 0\n",
    "    for letter in word:\n",
    "        ascii_code = ord(letter)\n",
    "        cur = (cur + ascii_code) * 17 % 256\n",
    "    return cur\n",
    "        \n",
    "get_hash(\"HASH\")"
   ]
  },
  {
   "cell_type": "code",
   "execution_count": null,
   "id": "cfd0e414-e2f3-4b2d-9d21-f8d0a8aadc3e",
   "metadata": {},
   "outputs": [],
   "source": [
    "test_str = \"rn=1,cm-,qp=3,cm=2,qp-,pc=4,ot=9,ab=5,pc-,pc=6,ot=7\"\n",
    "\n",
    "for word in test_str.split(\",\"):\n",
    "    print(f\"{word} = {get_hash(word)}\")"
   ]
  },
  {
   "cell_type": "code",
   "execution_count": 9,
   "id": "407b15cd-705b-4943-9957-edaae36ab2e1",
   "metadata": {},
   "outputs": [
    {
     "data": {
      "text/plain": [
       "1320"
      ]
     },
     "execution_count": 9,
     "metadata": {},
     "output_type": "execute_result"
    }
   ],
   "source": [
    "sum(get_hash(word) for word in test_str.split(\",\"))"
   ]
  },
  {
   "cell_type": "code",
   "execution_count": 12,
   "id": "483d6982-6e4e-4976-975e-d305c4575c78",
   "metadata": {},
   "outputs": [],
   "source": [
    "with open(\"input.txt\") as f:\n",
    "    data = f.read().splitlines()"
   ]
  },
  {
   "cell_type": "code",
   "execution_count": 14,
   "id": "be7f5ecf-8be7-4e48-aae5-16d4fa43ce2d",
   "metadata": {},
   "outputs": [
    {
     "data": {
      "text/plain": [
       "510388"
      ]
     },
     "execution_count": 14,
     "metadata": {},
     "output_type": "execute_result"
    }
   ],
   "source": [
    "sum(get_hash(word) for word in data[0].split(\",\"))"
   ]
  },
  {
   "cell_type": "code",
   "execution_count": 35,
   "id": "a190fe73-1b78-4e0d-adbb-4f3db89baa38",
   "metadata": {},
   "outputs": [],
   "source": [
    "boxes = [{} for _ in range(256)]\n",
    "\n",
    "for word in data[0].split(\",\"):\n",
    "    if \"-\" in word:\n",
    "        label = word[:-1]\n",
    "        hash_code = get_hash(label)\n",
    "\n",
    "        if label in boxes[hash_code]:\n",
    "            boxes[hash_code].pop(label)\n",
    "    if \"=\" in word:\n",
    "        label, qty_str = word.split(\"=\")\n",
    "        hash_code = get_hash(label)\n",
    "        qty = int(qty_str)\n",
    "\n",
    "        boxes[hash_code][label] = qty"
   ]
  },
  {
   "cell_type": "code",
   "execution_count": 36,
   "id": "17d6d137-49a2-421d-8e30-6f6876175a86",
   "metadata": {},
   "outputs": [],
   "source": [
    "total_sum = 0\n",
    "\n",
    "for box_id, box in enumerate(boxes, 1):\n",
    "    sum_box = 0\n",
    "    slot_id = 1\n",
    "    for k, v in box.items():\n",
    "        sum_box += box_id * slot_id * v\n",
    "        slot_id += 1\n",
    "\n",
    "    total_sum += sum_box"
   ]
  },
  {
   "cell_type": "code",
   "execution_count": 37,
   "id": "dd7641b6-29d5-4020-99e3-579ba92ad7b2",
   "metadata": {},
   "outputs": [
    {
     "data": {
      "text/plain": [
       "291774"
      ]
     },
     "execution_count": 37,
     "metadata": {},
     "output_type": "execute_result"
    }
   ],
   "source": [
    "total_sum"
   ]
  },
  {
   "cell_type": "code",
   "execution_count": null,
   "id": "d5562e18-135d-4c38-bc48-b02b0d97b0e7",
   "metadata": {},
   "outputs": [],
   "source": []
  }
 ],
 "metadata": {
  "kernelspec": {
   "display_name": "Python 3 (ipykernel)",
   "language": "python",
   "name": "python3"
  },
  "language_info": {
   "codemirror_mode": {
    "name": "ipython",
    "version": 3
   },
   "file_extension": ".py",
   "mimetype": "text/x-python",
   "name": "python",
   "nbconvert_exporter": "python",
   "pygments_lexer": "ipython3",
   "version": "3.11.6"
  }
 },
 "nbformat": 4,
 "nbformat_minor": 5
}
