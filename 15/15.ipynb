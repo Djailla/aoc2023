{
 "cells": [
  {
   "cell_type": "code",
   "execution_count": 6,
   "id": "dd9554e5-f19b-4dd7-a396-169f8f38eebd",
   "metadata": {},
   "outputs": [
    {
     "data": {
      "text/plain": [
       "52"
      ]
     },
     "execution_count": 6,
     "metadata": {},
     "output_type": "execute_result"
    }
   ],
   "source": [
    "def get_hash(word):\n",
    "    cur = 0\n",
    "    for letter in word:\n",
    "        ascii_code = ord(letter)\n",
    "        cur = (cur + ascii_code) * 17 % 256\n",
    "    return cur\n",
    "        \n",
    "get_hash(\"HASH\")"
   ]
  },
  {
   "cell_type": "code",
   "execution_count": null,
   "id": "cfd0e414-e2f3-4b2d-9d21-f8d0a8aadc3e",
   "metadata": {},
   "outputs": [],
   "source": [
    "test_str = \"rn=1,cm-,qp=3,cm=2,qp-,pc=4,ot=9,ab=5,pc-,pc=6,ot=7\"\n",
    "\n",
    "for word in test_str.split(\",\"):\n",
    "    print(f\"{word} = {get_hash(word)}\")"
   ]
  },
  {
   "cell_type": "code",
   "execution_count": 9,
   "id": "407b15cd-705b-4943-9957-edaae36ab2e1",
   "metadata": {},
   "outputs": [
    {
     "data": {
      "text/plain": [
       "1320"
      ]
     },
     "execution_count": 9,
     "metadata": {},
     "output_type": "execute_result"
    }
   ],
   "source": [
    "sum(get_hash(word) for word in test_str.split(\",\"))"
   ]
  },
  {
   "cell_type": "code",
   "execution_count": 12,
   "id": "483d6982-6e4e-4976-975e-d305c4575c78",
   "metadata": {},
   "outputs": [],
   "source": [
    "with open(\"input.txt\") as f:\n",
    "    data = f.read().splitlines()"
   ]
  },
  {
   "cell_type": "code",
   "execution_count": 14,
   "id": "be7f5ecf-8be7-4e48-aae5-16d4fa43ce2d",
   "metadata": {},
   "outputs": [
    {
     "data": {
      "text/plain": [
       "510388"
      ]
     },
     "execution_count": 14,
     "metadata": {},
     "output_type": "execute_result"
    }
   ],
   "source": [
    "sum(get_hash(word) for word in data[0].split(\",\"))"
   ]
  },
  {
   "cell_type": "code",
   "execution_count": null,
   "id": "a190fe73-1b78-4e0d-adbb-4f3db89baa38",
   "metadata": {},
   "outputs": [],
   "source": []
  }
 ],
 "metadata": {
  "kernelspec": {
   "display_name": "Python 3 (ipykernel)",
   "language": "python",
   "name": "python3"
  },
  "language_info": {
   "codemirror_mode": {
    "name": "ipython",
    "version": 3
   },
   "file_extension": ".py",
   "mimetype": "text/x-python",
   "name": "python",
   "nbconvert_exporter": "python",
   "pygments_lexer": "ipython3",
   "version": "3.11.6"
  }
 },
 "nbformat": 4,
 "nbformat_minor": 5
}
