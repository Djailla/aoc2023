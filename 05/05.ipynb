{
 "cells": [
  {
   "cell_type": "code",
   "execution_count": null,
   "id": "e0cf0da4-28a8-41f5-9528-702517f1504e",
   "metadata": {},
   "outputs": [],
   "source": [
    "from itertools import groupby\n",
    "\n",
    "with open(\"input.txt\") as f:\n",
    "    data = f.read().splitlines()\n",
    "\n",
    "seeds_line = data[0]\n",
    "\n",
    "seeds = [int(s) for s in seeds_line.split(\": \")[1].split()]\n",
    "\n",
    "map_list = [list(group) for key, group in groupby(data[1:], lambda x: x == \"\") if not key]\n",
    "\n",
    "for map_elem in map_list:\n",
    "    mapping = []\n",
    "    \n",
    "    title = map_elem[0]\n",
    "    for actions in map_elem[1:]:\n",
    "        target, source, count = [int(x) for x in actions.split()]\n",
    "        change = target - source\n",
    "\n",
    "        mapping.append([source, source + count, change])\n",
    "    print(mapping)\n",
    "\n",
    "    for idx, seed in enumerate(seeds):\n",
    "        for map in mapping:\n",
    "            min_val, max_val, change = map\n",
    "\n",
    "            if min_val <= seed <= max_val:\n",
    "                seeds[idx] = seeds[idx] + change\n",
    "    \n",
    "    print(seeds)\n",
    "\n",
    "min(seeds)"
   ]
  }
 ],
 "metadata": {
  "kernelspec": {
   "display_name": "Python 3 (ipykernel)",
   "language": "python",
   "name": "python3"
  },
  "language_info": {
   "codemirror_mode": {
    "name": "ipython",
    "version": 3
   },
   "file_extension": ".py",
   "mimetype": "text/x-python",
   "name": "python",
   "nbconvert_exporter": "python",
   "pygments_lexer": "ipython3",
   "version": "3.11.6"
  }
 },
 "nbformat": 4,
 "nbformat_minor": 5
}
