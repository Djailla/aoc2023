{
 "cells": [
  {
   "cell_type": "code",
   "execution_count": 121,
   "id": "814e2849-5c9f-477a-b38a-75c25e75ac5c",
   "metadata": {},
   "outputs": [
    {
     "data": {
      "text/plain": [
       "{2, 5, 8}"
      ]
     },
     "execution_count": 121,
     "metadata": {},
     "output_type": "execute_result"
    }
   ],
   "source": [
    "with open(\"test.txt\") as f:\n",
    "    data = f.read().splitlines()\n",
    "lines = [list(line) for line in data]\n",
    "\n",
    "empty_rows = set()\n",
    "empty_cols = set()\n",
    "\n",
    "for y_idx, line in enumerate(lines):\n",
    "    if all(c == \".\" for c in line):\n",
    "        empty_rows.add(y_idx)\n",
    "\n",
    "for x_idx, column in enumerate(lines[0]):\n",
    "    if all(c == \".\" for c in [line[x_idx] for line in lines]):\n",
    "        empty_cols.add(x_idx)\n",
    "\n",
    "empty_cols"
   ]
  },
  {
   "cell_type": "code",
   "execution_count": 122,
   "id": "a300db78-918d-44ae-8a42-325e79ca4165",
   "metadata": {},
   "outputs": [],
   "source": [
    "galaxies = []\n",
    "\n",
    "for y_idx, line in enumerate(lines):\n",
    "    for x_idx, column in enumerate(line):\n",
    "        if lines[y_idx][x_idx] == \"#\":\n",
    "            galaxies.append((x_idx, y_idx))"
   ]
  },
  {
   "cell_type": "code",
   "execution_count": 123,
   "id": "f49ea0db-8a58-43b2-9c00-398f4c6f0d2b",
   "metadata": {},
   "outputs": [],
   "source": [
    "from itertools import combinations\n",
    "\n",
    "travels = list(combinations(galaxies, 2))"
   ]
  },
  {
   "cell_type": "code",
   "execution_count": 127,
   "id": "e00645a5-5f45-4f78-b09b-f96a2bddd128",
   "metadata": {},
   "outputs": [],
   "source": [
    "def travel(start, end):\n",
    "    x_start, y_start = start\n",
    "    x_end, y_end = end\n",
    "    x_range = sorted([x_start, x_end])\n",
    "    y_range = sorted([y_start, y_end])\n",
    "\n",
    "    double_rows = 0\n",
    "    for row in empty_cols:\n",
    "    #    print(f\"Testing {x_range[0]} < {row} < {x_range[1]}\") \n",
    "        if x_range[0] < row < x_range[1]:\n",
    "            double_rows += 1\n",
    "\n",
    "    double_cols = 0\n",
    "    for col in empty_rows:\n",
    "    #    print(f\"Testing {y_range[0]} < {col} < {y_range[1]}\") \n",
    "        if y_range[0] < col < y_range[1]:\n",
    "            double_cols += 1\n",
    "    \n",
    "    distance = (x_range[1] - x_range[0]) + (y_range[1] - y_range[0]) + double_cols + double_rows\n",
    "    return distance\n"
   ]
  },
  {
   "cell_type": "code",
   "execution_count": 133,
   "id": "b78f6b67-8fa7-41ca-ab69-5a76c713398e",
   "metadata": {},
   "outputs": [],
   "source": [
    "x = \"\"\" \n",
    "...1......\n",
    ".......2..\n",
    "3.........\n",
    "..........\n",
    "......4...\n",
    ".5........\n",
    ".........6\n",
    "..........\n",
    ".......7..\n",
    "8...9.....\n",
    "\"\"\""
   ]
  },
  {
   "cell_type": "code",
   "execution_count": 129,
   "id": "d82e7c5b-64e9-4b8e-911d-2c07c71e1b4f",
   "metadata": {},
   "outputs": [
    {
     "name": "stdout",
     "output_type": "stream",
     "text": [
      "Testing 3 < 8 < 7\n",
      "Testing 3 < 2 < 7\n",
      "Testing 3 < 5 < 7\n",
      "Testing 0 < 3 < 8\n",
      "Testing 0 < 7 < 8\n"
     ]
    },
    {
     "data": {
      "text/plain": [
       "15"
      ]
     },
     "execution_count": 129,
     "metadata": {},
     "output_type": "execute_result"
    }
   ],
   "source": [
    "# From 1 to 7 => 15\n",
    "travel((3, 0), (7, 8))"
   ]
  },
  {
   "cell_type": "code",
   "execution_count": 130,
   "id": "07adc74a-e37f-4491-9ef4-f11de4b232cd",
   "metadata": {},
   "outputs": [
    {
     "name": "stdout",
     "output_type": "stream",
     "text": [
      "Testing 0 < 8 < 9\n",
      "Testing 0 < 2 < 9\n",
      "Testing 0 < 5 < 9\n",
      "Testing 2 < 3 < 6\n",
      "Testing 2 < 7 < 6\n"
     ]
    },
    {
     "data": {
      "text/plain": [
       "17"
      ]
     },
     "execution_count": 130,
     "metadata": {},
     "output_type": "execute_result"
    }
   ],
   "source": [
    "# From 3 to 6 => 17\n",
    "travel((0, 2), (9, 6))"
   ]
  },
  {
   "cell_type": "code",
   "execution_count": 134,
   "id": "7779379f-dadc-4913-991b-08020b98bb1c",
   "metadata": {},
   "outputs": [
    {
     "name": "stdout",
     "output_type": "stream",
     "text": [
      "Testing 0 < 8 < 4\n",
      "Testing 0 < 2 < 4\n",
      "Testing 0 < 5 < 4\n",
      "Testing 9 < 3 < 9\n",
      "Testing 9 < 7 < 9\n"
     ]
    },
    {
     "data": {
      "text/plain": [
       "5"
      ]
     },
     "execution_count": 134,
     "metadata": {},
     "output_type": "execute_result"
    }
   ],
   "source": [
    "# From 8 to 9 => 5\n",
    "travel((0, 9), (4, 9))"
   ]
  },
  {
   "cell_type": "code",
   "execution_count": null,
   "id": "97bd9de5-7501-4137-a986-354993069b6d",
   "metadata": {},
   "outputs": [],
   "source": [
    "sum(travel(*positions) for positions in travels)"
   ]
  },
  {
   "cell_type": "code",
   "execution_count": null,
   "id": "e30177cf-5890-472b-85a6-6e1d85f4accb",
   "metadata": {},
   "outputs": [],
   "source": []
  }
 ],
 "metadata": {
  "kernelspec": {
   "display_name": "Python 3 (ipykernel)",
   "language": "python",
   "name": "python3"
  },
  "language_info": {
   "codemirror_mode": {
    "name": "ipython",
    "version": 3
   },
   "file_extension": ".py",
   "mimetype": "text/x-python",
   "name": "python",
   "nbconvert_exporter": "python",
   "pygments_lexer": "ipython3",
   "version": "3.11.6"
  }
 },
 "nbformat": 4,
 "nbformat_minor": 5
}
