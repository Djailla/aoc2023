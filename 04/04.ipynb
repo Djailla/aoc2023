{
 "cells": [
  {
   "cell_type": "code",
   "execution_count": 21,
   "id": "2e018764-4705-4e63-8eda-9250fa51436c",
   "metadata": {},
   "outputs": [],
   "source": [
    "with open(\"test.txt\") as f:\n",
    "    data = f.read().splitlines()"
   ]
  },
  {
   "cell_type": "code",
   "execution_count": 22,
   "id": "f961a254-781e-432c-a391-d869c900ba02",
   "metadata": {},
   "outputs": [],
   "source": [
    "acc = 0\n",
    "\n",
    "for i, line in enumerate(data):\n",
    "    game_info, game_data = line.split(\": \")\n",
    "\n",
    "    _, game_id = game_info.split()\n",
    "    game_id = int(game_id)\n",
    "\n",
    "    game_draws = game_data.split(\" | \")\n",
    "    winning = set(game_draws[0].split())\n",
    "    my_draw = set(game_draws[1].split())\n",
    "\n",
    "    winner = my_draw.intersection(winning)\n",
    "\n",
    "    winner_count = len(winner)\n",
    "    if winner_count:\n",
    "        score = 2 ** (winner_count - 1)\n",
    "        acc += score"
   ]
  },
  {
   "cell_type": "code",
   "execution_count": null,
   "id": "ec8ac932-e8f7-44ca-92c9-4b274c818d95",
   "metadata": {},
   "outputs": [],
   "source": [
    "acc"
   ]
  },
  {
   "cell_type": "code",
   "execution_count": 39,
   "id": "2310e5b0-7936-4223-b94e-132cb26d7bcf",
   "metadata": {},
   "outputs": [],
   "source": [
    "with open(\"input.txt\") as f:\n",
    "    data = f.read().splitlines()"
   ]
  },
  {
   "cell_type": "code",
   "execution_count": 40,
   "id": "9596383a-44c7-4cec-a3fc-261e877568f7",
   "metadata": {},
   "outputs": [
    {
     "data": {
      "text/plain": [
       "5422730"
      ]
     },
     "execution_count": 40,
     "metadata": {},
     "output_type": "execute_result"
    }
   ],
   "source": [
    "acc = [0] + [1 for _ in range(len(data))]\n",
    "\n",
    "for i, line in enumerate(data):\n",
    "    game_info, game_data = line.split(\": \")\n",
    "\n",
    "    _, game_id = game_info.split()\n",
    "    game_id = int(game_id)\n",
    "\n",
    "    game_draws = game_data.split(\" | \")\n",
    "    winning = set(game_draws[0].split())\n",
    "    my_draw = set(game_draws[1].split())\n",
    "\n",
    "    winner = my_draw.intersection(winning)\n",
    "\n",
    "    winner_count = len(winner)\n",
    "\n",
    "    for x in range(game_id + 1, game_id + winner_count + 1):\n",
    "        acc[x] += acc[game_id]\n",
    "\n",
    "sum(acc)"
   ]
  },
  {
   "cell_type": "code",
   "execution_count": null,
   "id": "2a004287-b32a-4996-945a-b7f439293502",
   "metadata": {},
   "outputs": [],
   "source": []
  }
 ],
 "metadata": {
  "kernelspec": {
   "display_name": "Python 3 (ipykernel)",
   "language": "python",
   "name": "python3"
  },
  "language_info": {
   "codemirror_mode": {
    "name": "ipython",
    "version": 3
   },
   "file_extension": ".py",
   "mimetype": "text/x-python",
   "name": "python",
   "nbconvert_exporter": "python",
   "pygments_lexer": "ipython3",
   "version": "3.11.6"
  }
 },
 "nbformat": 4,
 "nbformat_minor": 5
}
