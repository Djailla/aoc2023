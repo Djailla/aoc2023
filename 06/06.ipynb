{
 "cells": [
  {
   "cell_type": "code",
   "execution_count": 42,
   "id": "28b1bce9-23d9-4cb8-9c00-4484b1db916f",
   "metadata": {},
   "outputs": [],
   "source": [
    "with open(\"input.txt\") as f:\n",
    "    data = f.read().splitlines()\n"
   ]
  },
  {
   "cell_type": "code",
   "execution_count": 43,
   "id": "991d416f-3d65-463c-bbba-654759935d95",
   "metadata": {},
   "outputs": [],
   "source": [
    "times = [int(x) for x in data[0].split(\":\")[1].split()]\n",
    "distances = [int(x) for x in data[1].split(\":\")[1].split()]"
   ]
  },
  {
   "cell_type": "code",
   "execution_count": 44,
   "id": "88dfea52-965b-4df8-975b-94807cbbc5cd",
   "metadata": {},
   "outputs": [],
   "source": [
    "def get_distance(duration, speed):\n",
    "    wait = speed\n",
    "    return (duration - speed) * speed\n",
    "\n",
    "def solutions(duration, target):\n",
    "    acc = 0\n",
    "    for speed in range(0, duration):\n",
    "        if get_distance(duration, speed) > target:\n",
    "            \n",
    "            acc += 1\n",
    "    return acc"
   ]
  },
  {
   "cell_type": "code",
   "execution_count": 45,
   "id": "3c895271-a74a-4296-9edf-83a9d22e7eee",
   "metadata": {},
   "outputs": [
    {
     "data": {
      "text/plain": [
       "608902"
      ]
     },
     "execution_count": 45,
     "metadata": {},
     "output_type": "execute_result"
    }
   ],
   "source": [
    "import math\n",
    "\n",
    "math.prod([solutions(duration, target) for duration, target in zip(times, distances)])"
   ]
  },
  {
   "cell_type": "code",
   "execution_count": null,
   "id": "84f54470-6300-421a-ad7e-c3855cb64ad4",
   "metadata": {},
   "outputs": [],
   "source": [
    "solutions("
   ]
  }
 ],
 "metadata": {
  "kernelspec": {
   "display_name": "Python 3 (ipykernel)",
   "language": "python",
   "name": "python3"
  },
  "language_info": {
   "codemirror_mode": {
    "name": "ipython",
    "version": 3
   },
   "file_extension": ".py",
   "mimetype": "text/x-python",
   "name": "python",
   "nbconvert_exporter": "python",
   "pygments_lexer": "ipython3",
   "version": "3.11.6"
  }
 },
 "nbformat": 4,
 "nbformat_minor": 5
}
