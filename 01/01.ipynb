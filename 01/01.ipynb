{
 "cells": [
  {
   "cell_type": "code",
   "execution_count": 3,
   "id": "4a80f0b3-3dd2-4fcf-8da4-c1a2024ff788",
   "metadata": {},
   "outputs": [],
   "source": [
    "with open(\"input.txt\") as f:\n",
    "    data = f.read().splitlines()"
   ]
  },
  {
   "cell_type": "code",
   "execution_count": 6,
   "id": "f1f37b92-295a-4a4b-91d4-9238c8794bf4",
   "metadata": {},
   "outputs": [],
   "source": [
    "def compute_line(line):\n",
    "    first_digit = 0\n",
    "    last_digit = 0\n",
    "\n",
    "    for x in line:\n",
    "        if x.isnumeric():\n",
    "            first_digit = int(x)\n",
    "            break\n",
    "\n",
    "    for y in line[::-1]:\n",
    "        if y.isnumeric():\n",
    "            last_digit = int(y)\n",
    "            break\n",
    "            \n",
    "    return first_digit * 10 + last_digit"
   ]
  },
  {
   "cell_type": "code",
   "execution_count": 7,
   "id": "49b6a44c-8ac1-449d-8ebf-a11d9f6132ee",
   "metadata": {},
   "outputs": [],
   "source": [
    "total1 = sum([compute_line(line) for line in data])"
   ]
  },
  {
   "cell_type": "code",
   "execution_count": 8,
   "id": "5d65b2ec-2938-498f-98d5-a2a9ce259c9f",
   "metadata": {},
   "outputs": [],
   "source": [
    "number_pattern = {\n",
    "    \"1\": 1,\n",
    "    \"2\": 2,\n",
    "    \"3\": 3,\n",
    "    \"4\": 4,\n",
    "    \"5\": 5,\n",
    "    \"6\": 6,\n",
    "    \"7\": 7,\n",
    "    \"8\": 8,\n",
    "    \"9\": 9,\n",
    "    \"one\":   1,\n",
    "    \"two\":   2,\n",
    "    \"three\": 3,\n",
    "    \"four\":  4,\n",
    "    \"five\":  5,\n",
    "    \"six\":   6,\n",
    "    \"seven\": 7,\n",
    "    \"eight\": 8,\n",
    "    \"nine\":  9,\n",
    "}\n",
    "\n",
    "def replace_strings(line):\n",
    "    positions_start = {}\n",
    "    positions_end = {}\n",
    "    \n",
    "    for k, v in number_pattern.items():\n",
    "        pos_start = line.find(k)\n",
    "        if pos_start >= 0:\n",
    "            positions_start[k] = pos_start\n",
    "\n",
    "        pos_end = line.rfind(k)\n",
    "        if pos_end >= 0:\n",
    "            positions_end[k] = pos_end\n",
    "    \n",
    "    first_elem = min(positions_start, key=positions_start.get)\n",
    "    last_elem = max(positions_end, key=positions_end.get)\n",
    "\n",
    "    res = number_pattern[first_elem] * 10 + number_pattern[last_elem]\n",
    "    # print(f\"{line:50}\", f\"{first_elem:10}\", f\"{last_elem:10}\", res)\n",
    "    \n",
    "    return res"
   ]
  },
  {
   "cell_type": "code",
   "execution_count": 9,
   "id": "c9c7116e-4031-451d-b10b-f8f50d06e327",
   "metadata": {},
   "outputs": [],
   "source": [
    "total2 = sum([replace_strings(line) for line in data])"
   ]
  }
 ],
 "metadata": {
  "kernelspec": {
   "display_name": "Python 3 (ipykernel)",
   "language": "python",
   "name": "python3"
  },
  "language_info": {
   "codemirror_mode": {
    "name": "ipython",
    "version": 3
   },
   "file_extension": ".py",
   "mimetype": "text/x-python",
   "name": "python",
   "nbconvert_exporter": "python",
   "pygments_lexer": "ipython3",
   "version": "3.11.6"
  }
 },
 "nbformat": 4,
 "nbformat_minor": 5
}
