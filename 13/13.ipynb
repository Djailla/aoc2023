{
 "cells": [
  {
   "cell_type": "code",
   "execution_count": 163,
   "id": "cfd6d010-4689-4d59-85f8-bd7868896c2c",
   "metadata": {},
   "outputs": [],
   "source": [
    "with open(\"input.txt\") as f:\n",
    "    data = f.read().splitlines()"
   ]
  },
  {
   "cell_type": "code",
   "execution_count": 164,
   "id": "e7152f58-3032-4fea-afa8-71ffb1ea58a7",
   "metadata": {
    "scrolled": true
   },
   "outputs": [],
   "source": [
    "from itertools import groupby\n",
    "\n",
    "map_list = [list(group) for key, group in groupby(data, lambda x: x == \"\") if not key]"
   ]
  },
  {
   "cell_type": "code",
   "execution_count": 166,
   "id": "4bfabeb1-4034-4dde-8473-ae438f6f23da",
   "metadata": {},
   "outputs": [],
   "source": [
    "def print_map(data):\n",
    "    for line in data:\n",
    "        line_content = \"\".join(line)\n",
    "        print(f\"{line_content}\")"
   ]
  },
  {
   "cell_type": "code",
   "execution_count": 169,
   "id": "121a7c06-1c11-440e-b031-71ea809036bc",
   "metadata": {},
   "outputs": [],
   "source": [
    "def check_lines(test_map, sym_idx, gap):\n",
    "    begin_idx = sym_idx - gap\n",
    "    end_idx = sym_idx + gap + 1\n",
    "    \n",
    "    if begin_idx < 0:\n",
    "        return True\n",
    "    if end_idx >= len(test_map):\n",
    "        return True\n",
    "\n",
    "#    print(f\"{begin_idx=} / {end_idx=} = {test_map[begin_idx]} ?? {test_map[end_idx]}\")\n",
    "    return test_map[begin_idx] == test_map[end_idx]\n",
    "\n",
    "def is_symetric(test_map, idx):\n",
    "    symetric = [check_lines(test_map, idx, n) for n in range(1, len(test_map))]\n",
    "    return all(symetric)\n",
    "    \n",
    "def get_matching(data):\n",
    "    matching = [x for x in range(len(data) - 1) if data[x] == data[x + 1]]\n",
    "    for x in matching:\n",
    "        if is_symetric(data, x):\n",
    "            return x + 1\n",
    "\n",
    "    return 0"
   ]
  },
  {
   "cell_type": "code",
   "execution_count": 170,
   "id": "46aa82de-bf29-4f19-bdc1-e1f4b54f9702",
   "metadata": {},
   "outputs": [
    {
     "data": {
      "text/plain": [
       "30705"
      ]
     },
     "execution_count": 170,
     "metadata": {},
     "output_type": "execute_result"
    }
   ],
   "source": [
    "def compute_map(data):\n",
    "    lines = data\n",
    "    columns = [\n",
    "        \"\".join(line[x] for line in lines) for x in range(len(lines[0]))\n",
    "    ]\n",
    "    line_score = get_matching(lines) * 100\n",
    "    column_score = get_matching(columns)\n",
    "\n",
    "    return column_score + line_score\n",
    "\n",
    "sum(compute_map(data_input) for data_input in map_list)"
   ]
  },
  {
   "cell_type": "code",
   "execution_count": null,
   "id": "f27a31ea-e3a8-4bac-9ac6-1ce219db9a35",
   "metadata": {},
   "outputs": [],
   "source": []
  },
  {
   "cell_type": "code",
   "execution_count": null,
   "id": "8cd8c1a1-6800-440f-97f8-e1f1fc0f96d8",
   "metadata": {},
   "outputs": [],
   "source": []
  },
  {
   "cell_type": "code",
   "execution_count": null,
   "id": "79c62db5-243d-4074-9c35-8ad53fb8593c",
   "metadata": {},
   "outputs": [],
   "source": []
  }
 ],
 "metadata": {
  "kernelspec": {
   "display_name": "Python 3 (ipykernel)",
   "language": "python",
   "name": "python3"
  },
  "language_info": {
   "codemirror_mode": {
    "name": "ipython",
    "version": 3
   },
   "file_extension": ".py",
   "mimetype": "text/x-python",
   "name": "python",
   "nbconvert_exporter": "python",
   "pygments_lexer": "ipython3",
   "version": "3.11.6"
  }
 },
 "nbformat": 4,
 "nbformat_minor": 5
}
