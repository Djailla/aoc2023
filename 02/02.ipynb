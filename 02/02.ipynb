{
 "cells": [
  {
   "cell_type": "code",
   "execution_count": 48,
   "id": "3476a23a-90f5-47db-babc-8c95f5608be7",
   "metadata": {},
   "outputs": [],
   "source": [
    "with open(\"input.txt\") as f:\n",
    "    data = f.read().splitlines()"
   ]
  },
  {
   "cell_type": "code",
   "execution_count": 49,
   "id": "3a657380-691e-40e2-961c-c8080a3b5d17",
   "metadata": {},
   "outputs": [],
   "source": [
    "red = \"red\"\n",
    "green = \"green\"\n",
    "blue = \"blue\"\n",
    "\n",
    "bag_content = {\n",
    "    red: 12,\n",
    "    green: 13,\n",
    "    blue: 14,\n",
    "}"
   ]
  },
  {
   "cell_type": "code",
   "execution_count": 50,
   "id": "30b6569b-e4dd-4dd7-a716-ec7f4aa5f821",
   "metadata": {},
   "outputs": [
    {
     "name": "stdout",
     "output_type": "stream",
     "text": [
      "2879\n"
     ]
    }
   ],
   "source": [
    "def is_possible(game_draw):\n",
    "    output = []\n",
    "    elems = game_draw.split(\", \")\n",
    "    \n",
    "    for elem in elems:\n",
    "        color_count, color = elem.split(\" \")\n",
    "        color_count = int(color_count)\n",
    "        if color_count > bag_content[color]:\n",
    "            output.append(False)\n",
    "            break\n",
    "        output.append(True)\n",
    "    return all(output)\n",
    "\n",
    "\n",
    "count = 0\n",
    "\n",
    "for i, line in enumerate(data):\n",
    "    game_info, game_data = line.split(\": \")\n",
    "\n",
    "    _, game_id = game_info.split()\n",
    "    game_id = int(game_id)\n",
    "\n",
    "    game_draws = game_data.split(\"; \")\n",
    "    \n",
    "    if all([is_possible(draw) for draw in game_draws]):\n",
    "        count += game_id\n",
    "\n",
    "print(count)"
   ]
  },
  {
   "cell_type": "code",
   "execution_count": 60,
   "id": "796f556d-78ca-4f88-86d9-c4b54a416483",
   "metadata": {},
   "outputs": [
    {
     "data": {
      "text/plain": [
       "65122"
      ]
     },
     "execution_count": 60,
     "metadata": {},
     "output_type": "execute_result"
    }
   ],
   "source": [
    "def min_cubes(game_line):\n",
    "    acc = {\n",
    "        red: [],\n",
    "        green: [],\n",
    "        blue: [],\n",
    "    }\n",
    "    for game_draw in game_line.split(\"; \"):    \n",
    "        for elem in game_draw.split(\", \"):\n",
    "            color_count, color = elem.split(\" \")\n",
    "            color_count = int(color_count)\n",
    "            acc[color].append(color_count)\n",
    "\n",
    "    return max(acc[red]) * max(acc[green]) * max(acc[blue])\n",
    "\n",
    "out = 0\n",
    "\n",
    "for i, line in enumerate(data):\n",
    "    game_info, game_data = line.split(\": \")\n",
    "    out += min_cubes(game_data)\n",
    "\n",
    "out"
   ]
  }
 ],
 "metadata": {
  "kernelspec": {
   "display_name": "Python 3 (ipykernel)",
   "language": "python",
   "name": "python3"
  },
  "language_info": {
   "codemirror_mode": {
    "name": "ipython",
    "version": 3
   },
   "file_extension": ".py",
   "mimetype": "text/x-python",
   "name": "python",
   "nbconvert_exporter": "python",
   "pygments_lexer": "ipython3",
   "version": "3.11.6"
  }
 },
 "nbformat": 4,
 "nbformat_minor": 5
}
