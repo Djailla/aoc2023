{
 "cells": [
  {
   "cell_type": "code",
   "execution_count": null,
   "id": "874d50b0-e019-4ae5-8b55-e5e7265aedb8",
   "metadata": {},
   "outputs": [],
   "source": [
    "with open(\"input.txt\") as f:\n",
    "    data = f.read().splitlines()\n",
    "\n",
    "steps = data[0]"
   ]
  },
  {
   "cell_type": "code",
   "execution_count": null,
   "id": "d65e0967-1ff5-47ca-8a58-c59964f25d26",
   "metadata": {},
   "outputs": [],
   "source": [
    "steps\n",
    "\n",
    "from itertools import cycle"
   ]
  },
  {
   "cell_type": "code",
   "execution_count": null,
   "id": "3d4e002a-0098-4192-9554-0266845066d7",
   "metadata": {},
   "outputs": [],
   "source": [
    "class Node:\n",
    "    def __init__(self, key, right, left):\n",
    "        self.key = key\n",
    "        self.right = right\n",
    "        self.left = left\n",
    "\n",
    "    def __repr__(self):\n",
    "        return f\"{self.key:} | <= {self.left} | {self.right} =>\"\n",
    "\n",
    "node_dict = {}\n",
    "\n",
    "for line in data[2:]:\n",
    "    key, directions = line.split(\" = \")\n",
    "    left, right = directions[1:-1].split(\", \")\n",
    "    node = Node(key, right, left)\n",
    "    node_dict[key] = node\n",
    "\n",
    "current = \"AAA\"\n",
    "step_count = 0\n",
    "step_cycle = cycle(steps)\n",
    "\n",
    "while current != \"ZZZ\":\n",
    "    step = next(step_cycle)\n",
    "    current = node_dict[current].right if step == \"R\" else node_dict[current].left\n",
    "    print(current, end=\" \")\n",
    "    step_count += 1\n",
    "\n",
    "step_count"
   ]
  },
  {
   "cell_type": "code",
   "execution_count": null,
   "id": "6beda658-2e13-4401-b516-d896f9b3aa2d",
   "metadata": {},
   "outputs": [],
   "source": [
    "class Node:\n",
    "    def __init__(self, key, right, left):\n",
    "        self.key = key\n",
    "        self.right = right\n",
    "        self.left = left\n",
    "\n",
    "    def __repr__(self):\n",
    "        return f\"{self.key:} | <= {self.left} | {self.right} =>\"\n",
    "\n",
    "node_dict = {}\n",
    "\n",
    "for line in data[2:]:\n",
    "    key, directions = line.split(\" = \")\n",
    "    left, right = directions[1:-1].split(\", \")\n",
    "    node = Node(key, right, left)\n",
    "    node_dict[key] = node"
   ]
  },
  {
   "cell_type": "code",
   "execution_count": null,
   "id": "c9c3b220-96ad-4df9-af1d-84d36c21c6e1",
   "metadata": {},
   "outputs": [],
   "source": [
    "start_points = [node for node in node_dict.keys() if node.endswith(\"A\")]\n",
    "start_points"
   ]
  },
  {
   "cell_type": "code",
   "execution_count": null,
   "id": "8a92b244-79e6-4cd5-bba6-daeb3d558730",
   "metadata": {},
   "outputs": [],
   "source": [
    "end_points = [node for node in node_dict.keys() if node.endswith(\"Z\")]"
   ]
  },
  {
   "cell_type": "code",
   "execution_count": 37,
   "id": "89b546d5-215c-4725-b3ee-c4e34bb168fa",
   "metadata": {},
   "outputs": [],
   "source": [
    "def step_count(start_point):\n",
    "    current = start_point\n",
    "    step_count = 0\n",
    "    step_cycle = cycle(steps)\n",
    "    \n",
    "    while current not in end_points:\n",
    "        step = next(step_cycle)\n",
    "        current = node_dict[current].right if step == \"R\" else node_dict[current].left\n",
    "#        print(current, end=\" \")\n",
    "        step_count += 1\n",
    "    \n",
    "    return step_count"
   ]
  },
  {
   "cell_type": "code",
   "execution_count": 38,
   "id": "5282cc33-89c0-45ba-95af-b5a2a811648a",
   "metadata": {},
   "outputs": [],
   "source": [
    "steps_out = [step_count(start_point) for start_point in start_points]"
   ]
  },
  {
   "cell_type": "code",
   "execution_count": 39,
   "id": "81b61b3d-8abd-43e9-ac54-7b5878dedfea",
   "metadata": {},
   "outputs": [
    {
     "data": {
      "text/plain": [
       "[16409, 12643, 21251, 15871, 19637, 11567]"
      ]
     },
     "execution_count": 39,
     "metadata": {},
     "output_type": "execute_result"
    }
   ],
   "source": [
    "steps_out"
   ]
  },
  {
   "cell_type": "code",
   "execution_count": null,
   "id": "1c31c45f-1bde-469f-84e1-f856953ab4ec",
   "metadata": {},
   "outputs": [],
   "source": []
  }
 ],
 "metadata": {
  "kernelspec": {
   "display_name": "Python 3 (ipykernel)",
   "language": "python",
   "name": "python3"
  },
  "language_info": {
   "codemirror_mode": {
    "name": "ipython",
    "version": 3
   },
   "file_extension": ".py",
   "mimetype": "text/x-python",
   "name": "python",
   "nbconvert_exporter": "python",
   "pygments_lexer": "ipython3",
   "version": "3.11.6"
  }
 },
 "nbformat": 4,
 "nbformat_minor": 5
}
