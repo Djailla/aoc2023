{
 "cells": [
  {
   "cell_type": "code",
   "execution_count": 200,
   "id": "07e5ace7-03e0-4868-910d-264bdb16425e",
   "metadata": {},
   "outputs": [],
   "source": [
    "import copy\n",
    "\n",
    "DATA = []\n",
    "\n",
    "with open(\"input.txt\") as f:\n",
    "    DATA = [list(line) for line in f.read().splitlines()]\n",
    "\n",
    "x_size = len(DATA[0])\n",
    "y_size = len(DATA)\n",
    "\n",
    "init_data = copy.deepcopy(DATA)\n",
    "\n",
    "# Remove symbols to compute total\n",
    "for y, line in enumerate(init_data):\n",
    "    for x, c in enumerate(line):\n",
    "        if is_symbol(c):\n",
    "            init_data[y][x] = \".\""
   ]
  },
  {
   "cell_type": "code",
   "execution_count": 201,
   "id": "3ccd6b36-9d17-4a96-9d01-1cb1a7942d23",
   "metadata": {},
   "outputs": [],
   "source": [
    "def is_symbol(c):\n",
    "    if not c.isnumeric() and c != \".\":\n",
    "        return True\n",
    "    return False\n",
    "\n",
    "def print_data(table):\n",
    "    for line in table:\n",
    "        print(\"\".join(line))\n",
    "\n",
    "def sum_data(table):\n",
    "    acc = 0\n",
    "    for idx, line in enumerate(table):\n",
    "        numbers = [int(x) for x in \"\".join(line).split(\".\") if x.isnumeric()]\n",
    "        acc += sum(numbers)\n",
    "\n",
    "    print(f\"TOTAL = {acc}\")\n",
    "    return acc\n",
    "\n",
    "def get_adjacents(x, y):   \n",
    "    return [\n",
    "        [x - 1, y - 1],\n",
    "        [x, y - 1],\n",
    "        [x + 1, y - 1],\n",
    "        [x - 1, y],\n",
    "        [x + 1, y],\n",
    "        [x - 1, y + 1],\n",
    "        [x, y + 1],\n",
    "        [x + 1, y + 1],\n",
    "    ]\n",
    "\n",
    "\n",
    "def replace_adjacents(x, y):\n",
    "    adjacents = get_adjacents(x, y)\n",
    "    for adjacent in adjacents:\n",
    "        x_adj, y_adj = adjacent\n",
    "        if (\n",
    "                x_adj >= x_size or \n",
    "                x_adj < 0 or \n",
    "                y_adj >= y_size or \n",
    "                y_adj < 0\n",
    "        ):\n",
    "            continue\n",
    "        try:\n",
    "            if DATA[y_adj][x_adj].isnumeric():\n",
    "                DATA[y_adj][x_adj] = \".\"\n",
    "                replace_adjacents_numbers(x_adj, y_adj)\n",
    "        except:\n",
    "            print(f\"{x_adj}, {y_adj} => {x_size}, {y_size}\")\n",
    "\n",
    "def get_adjacent_number(x, y):       \n",
    "    return [\n",
    "        [x - 1, y],\n",
    "        [x + 1, y],\n",
    "    ]        \n",
    "\n",
    "def replace_adjacents_numbers(x, y):\n",
    "    adjacents = get_adjacent_number(x, y)\n",
    "   \n",
    "    for adjacent in adjacents:\n",
    "        x_adj, y_adj = adjacent\n",
    "\n",
    "        if x_adj >= x_size or x_adj < 0:\n",
    "            return \n",
    "        if DATA[y_adj][x_adj].isnumeric():\n",
    "            DATA[y_adj][x_adj] = \".\"\n",
    "            replace_adjacents_numbers(x_adj, y_adj)"
   ]
  },
  {
   "cell_type": "code",
   "execution_count": 225,
   "id": "96359cd6-43dd-4610-830e-0f64bf7b7ceb",
   "metadata": {},
   "outputs": [
    {
     "name": "stdout",
     "output_type": "stream",
     "text": [
      "TOTAL = 591464\n",
      "TOTAL = 176\n"
     ]
    },
    {
     "data": {
      "text/plain": [
       "591288"
      ]
     },
     "execution_count": 225,
     "metadata": {},
     "output_type": "execute_result"
    }
   ],
   "source": [
    "before = sum_data(init_data)\n",
    "\n",
    "for y, line in enumerate(DATA):\n",
    "    for x, c in enumerate(line):\n",
    "        if is_symbol(c):\n",
    "            DATA[y][x] = \".\"\n",
    "            replace_adjacents(x, y)\n",
    "\n",
    "after = sum_data(DATA)\n",
    "\n",
    "before - after"
   ]
  },
  {
   "cell_type": "code",
   "execution_count": 227,
   "id": "0f3f5b22-cf0c-46b4-8f55-4de30721eaa8",
   "metadata": {},
   "outputs": [],
   "source": [
    "DATA = []\n",
    "\n",
    "with open(\"test.txt\") as f:\n",
    "    DATA = [list(line) for line in f.read().splitlines()]\n",
    "\n",
    "x_size = len(DATA[0])\n",
    "y_size = len(DATA)\n"
   ]
  },
  {
   "cell_type": "code",
   "execution_count": 299,
   "id": "9b890986-e092-4f25-a19e-05d2c2108c53",
   "metadata": {},
   "outputs": [],
   "source": [
    "DATA = []\n",
    "\n",
    "with open(\"test.txt\") as f:\n",
    "    DATA = [list(line) for line in f.read().splitlines()]\n",
    "\n",
    "x_size = len(DATA[0])\n",
    "y_size = len(DATA)\n",
    "\n",
    "def add_right(x, y, number_str, data):\n",
    "    new_x = x + 1\n",
    "    if new_x >= x_size:\n",
    "        return number_str\n",
    "\n",
    "    right_char = data[y][new_x]\n",
    "    if right_char.isnumeric():\n",
    "        data[y][new_x] = \".\"\n",
    "        number_str += right_char\n",
    "        return add_right(new_x, y, number_str, data)\n",
    "    return number_str\n",
    "\n",
    "def add_left(x, y, number_str, data):\n",
    "    new_x = x - 1\n",
    "    if new_x < 0:\n",
    "        return number_str\n",
    "\n",
    "    left_char = data[y][new_x]\n",
    "    if left_char.isnumeric():\n",
    "        data[y][new_x] = \".\"\n",
    "        number_str = left_char + number_str\n",
    "        return add_left(new_x, y, number_str, data)\n",
    "    return number_str\n",
    "\n",
    "def search_number(x, y, data):\n",
    "    if (\n",
    "            x >= x_size or \n",
    "            x < 0 or \n",
    "            y >= y_size or \n",
    "            y < 0\n",
    "    ):\n",
    "        return None\n",
    "\n",
    "    number = None\n",
    "    current_char = data[y][x]\n",
    "    if current_char.isnumeric():\n",
    "        data[y][x] = \".\"\n",
    "        number = add_right(x, y, current_char, data)\n",
    "        number = add_left(x, y, number, data)\n",
    "\n",
    "    return number\n",
    "\n",
    "\n",
    "def get_numbers(x, y, data):\n",
    "    num_list = [\n",
    "        num for num in [\n",
    "            search_number(x - 1, y - 1, data),\n",
    "            search_number(x, y - 1, data),\n",
    "            search_number(x + 1, y - 1, data),\n",
    "            search_number(x - 1, y, data),\n",
    "            search_number(x + 1, y, data),\n",
    "            search_number(x - 1, y + 1, data),\n",
    "            search_number(x, y + 1, data),\n",
    "            search_number(x + 1, y + 1, data),\n",
    "        ] if num is not None\n",
    "    ]\n",
    "    if len(num_list) == 2:\n",
    "        return int(num_list[0]) * int(num_list[1])\n",
    "    return 0\n"
   ]
  },
  {
   "cell_type": "code",
   "execution_count": 300,
   "id": "a8e936f3-a914-4ae1-b2b6-c6450ba5c3cf",
   "metadata": {},
   "outputs": [],
   "source": [
    "import copy\n",
    "\n",
    "DATA = []\n",
    "\n",
    "with open(\"input.txt\") as f:\n",
    "    DATA = [list(line) for line in f.read().splitlines()]\n",
    "\n",
    "x_size = len(DATA[0])\n",
    "y_size = len(DATA)\n",
    "\n",
    "acc = 0\n",
    "\n",
    "# Remove symbols to compute total\n",
    "for y, line in enumerate(DATA):\n",
    "    for x, c in enumerate(line):\n",
    "        if c == \"*\":\n",
    "            c_data = copy.deepcopy(DATA)\n",
    "            acc += get_numbers(x, y, c_data)"
   ]
  },
  {
   "cell_type": "code",
   "execution_count": 301,
   "id": "247ca9e1-6fd3-40de-a839-6e445da95db8",
   "metadata": {},
   "outputs": [
    {
     "data": {
      "text/plain": [
       "74528807"
      ]
     },
     "execution_count": 301,
     "metadata": {},
     "output_type": "execute_result"
    }
   ],
   "source": [
    "acc"
   ]
  }
 ],
 "metadata": {
  "kernelspec": {
   "display_name": "Python 3 (ipykernel)",
   "language": "python",
   "name": "python3"
  },
  "language_info": {
   "codemirror_mode": {
    "name": "ipython",
    "version": 3
   },
   "file_extension": ".py",
   "mimetype": "text/x-python",
   "name": "python",
   "nbconvert_exporter": "python",
   "pygments_lexer": "ipython3",
   "version": "3.11.6"
  }
 },
 "nbformat": 4,
 "nbformat_minor": 5
}
