{
 "cells": [
  {
   "cell_type": "code",
   "execution_count": 200,
   "id": "07e5ace7-03e0-4868-910d-264bdb16425e",
   "metadata": {},
   "outputs": [],
   "source": [
    "import copy\n",
    "\n",
    "DATA = []\n",
    "\n",
    "with open(\"input.txt\") as f:\n",
    "    DATA = [list(line) for line in f.read().splitlines()]\n",
    "\n",
    "x_size = len(DATA[0])\n",
    "y_size = len(DATA)\n",
    "\n",
    "init_data = copy.deepcopy(DATA)\n",
    "\n",
    "# Remove symbols to compute total\n",
    "for y, line in enumerate(init_data):\n",
    "    for x, c in enumerate(line):\n",
    "        if is_symbol(c):\n",
    "            init_data[y][x] = \".\""
   ]
  },
  {
   "cell_type": "code",
   "execution_count": 201,
   "id": "3ccd6b36-9d17-4a96-9d01-1cb1a7942d23",
   "metadata": {},
   "outputs": [],
   "source": [
    "def is_symbol(c):\n",
    "    if not c.isnumeric() and c != \".\":\n",
    "        return True\n",
    "    return False\n",
    "\n",
    "def print_data(table):\n",
    "    for line in table:\n",
    "        print(\"\".join(line))\n",
    "\n",
    "def sum_data(table):\n",
    "    acc = 0\n",
    "    for idx, line in enumerate(table):\n",
    "        numbers = [int(x) for x in \"\".join(line).split(\".\") if x.isnumeric()]\n",
    "        acc += sum(numbers)\n",
    "\n",
    "    print(f\"TOTAL = {acc}\")\n",
    "    return acc\n",
    "\n",
    "def get_adjacents(x, y):   \n",
    "    return [\n",
    "        [x - 1, y - 1],\n",
    "        [x, y - 1],\n",
    "        [x + 1, y - 1],\n",
    "        [x - 1, y],\n",
    "        [x + 1, y],\n",
    "        [x - 1, y + 1],\n",
    "        [x, y + 1],\n",
    "        [x + 1, y + 1],\n",
    "    ]\n",
    "\n",
    "\n",
    "def replace_adjacents(x, y):\n",
    "    adjacents = get_adjacents(x, y)\n",
    "    for adjacent in adjacents:\n",
    "        x_adj, y_adj = adjacent\n",
    "        if (\n",
    "                x_adj >= x_size or \n",
    "                x_adj < 0 or \n",
    "                y_adj >= y_size or \n",
    "                y_adj < 0\n",
    "        ):\n",
    "            continue\n",
    "        try:\n",
    "            if DATA[y_adj][x_adj].isnumeric():\n",
    "                DATA[y_adj][x_adj] = \".\"\n",
    "                replace_adjacents_numbers(x_adj, y_adj)\n",
    "        except:\n",
    "            print(f\"{x_adj}, {y_adj} => {x_size}, {y_size}\")\n",
    "\n",
    "def get_adjacent_number(x, y):       \n",
    "    return [\n",
    "        [x - 1, y],\n",
    "        [x + 1, y],\n",
    "    ]        \n",
    "\n",
    "def replace_adjacents_numbers(x, y):\n",
    "    adjacents = get_adjacent_number(x, y)\n",
    "   \n",
    "    for adjacent in adjacents:\n",
    "        x_adj, y_adj = adjacent\n",
    "\n",
    "        if x_adj >= x_size or x_adj < 0:\n",
    "            return \n",
    "        if DATA[y_adj][x_adj].isnumeric():\n",
    "            DATA[y_adj][x_adj] = \".\"\n",
    "            replace_adjacents_numbers(x_adj, y_adj)"
   ]
  },
  {
   "cell_type": "code",
   "execution_count": 202,
   "id": "0252376c-f7fc-462c-a817-61246e5b8603",
   "metadata": {},
   "outputs": [
    {
     "name": "stdout",
     "output_type": "stream",
     "text": [
      "TOTAL = 591464\n",
      "TOTAL = 72020\n"
     ]
    },
    {
     "data": {
      "text/plain": [
       "519444"
      ]
     },
     "execution_count": 202,
     "metadata": {},
     "output_type": "execute_result"
    }
   ],
   "source": [
    "before = sum_data(init_data)\n",
    "\n",
    "for y, line in enumerate(DATA):\n",
    "    for x, c in enumerate(line):\n",
    "        if is_symbol(c):\n",
    "            DATA[y][x] = \".\"\n",
    "            replace_adjacents(x, y)\n",
    "\n",
    "after = sum_data(DATA)\n",
    "\n",
    "before - after"
   ]
  }
 ],
 "metadata": {
  "kernelspec": {
   "display_name": "Python 3 (ipykernel)",
   "language": "python",
   "name": "python3"
  },
  "language_info": {
   "codemirror_mode": {
    "name": "ipython",
    "version": 3
   },
   "file_extension": ".py",
   "mimetype": "text/x-python",
   "name": "python",
   "nbconvert_exporter": "python",
   "pygments_lexer": "ipython3",
   "version": "3.11.6"
  }
 },
 "nbformat": 4,
 "nbformat_minor": 5
}
